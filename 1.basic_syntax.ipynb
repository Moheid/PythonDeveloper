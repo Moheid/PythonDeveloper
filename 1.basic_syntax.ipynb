{
 "cells": [
  {
   "cell_type": "markdown",
   "id": "38252e40-5727-495a-b18f-a6f8e27dfd7d",
   "metadata": {},
   "source": [
    "## Create variable "
   ]
  },
  {
   "cell_type": "code",
   "execution_count": 2,
   "id": "2ec7a1a2-e8c6-456d-abc7-bf30c8413832",
   "metadata": {},
   "outputs": [
    {
     "name": "stdout",
     "output_type": "stream",
     "text": [
      "Hello World!\n"
     ]
    }
   ],
   "source": [
    "greeting = \"Hello World!\"\n",
    "print(greeting)"
   ]
  },
  {
   "cell_type": "markdown",
   "id": "39eaca3b-89f7-411b-a9db-9774a3679ea6",
   "metadata": {},
   "source": [
    "### Create Different Variable"
   ]
  },
  {
   "cell_type": "code",
   "execution_count": 14,
   "id": "5a3064ad-7dcb-4db4-8fab-47da1b377dcf",
   "metadata": {},
   "outputs": [
    {
     "name": "stdout",
     "output_type": "stream",
     "text": [
      "Welcome Mohamed Ibrahim\n",
      "your are illegable 90kg\n",
      "your 181cm is perfect\n",
      "your recharge price $0.25 is very affordable\n"
     ]
    }
   ],
   "source": [
    "name = \"Mohamed Ibrahim\"\n",
    "weight = 90\n",
    "height = 181\n",
    "rate = 0.25\n",
    "print(f\"Welcome {name}\\nyour are illegable {weight}kg\\nyour {height}cm is perfect\\nyour recharge price ${rate} is very affordable\")"
   ]
  },
  {
   "cell_type": "markdown",
   "id": "fdc363f6-42bf-437a-933c-8def1be42c7e",
   "metadata": {},
   "source": [
    "## Writing a Script or program"
   ]
  },
  {
   "cell_type": "markdown",
   "id": "14f3fffa-e083-44c3-a96a-50e83f799998",
   "metadata": {},
   "source": [
    "Use of variables is especially advantageous when writing scripts or programs."
   ]
  },
  {
   "cell_type": "code",
   "execution_count": 16,
   "id": "677d1678-80ee-4129-b9ae-cfd6f912ca72",
   "metadata": {},
   "outputs": [
    {
     "name": "stdout",
     "output_type": "stream",
     "text": [
      "Area =  200\n",
      "Perimeter =  60\n"
     ]
    }
   ],
   "source": [
    "width = 10\n",
    "height = 20\n",
    "area = width*height\n",
    "perimeter = 2*(width+height)\n",
    "print (\"Area = \", area)\n",
    "print (\"Perimeter = \", perimeter)"
   ]
  },
  {
   "cell_type": "code",
   "execution_count": null,
   "id": "915bb697-d2f1-49aa-ba0e-dca4e1dfe556",
   "metadata": {},
   "outputs": [],
   "source": []
  }
 ],
 "metadata": {
  "kernelspec": {
   "display_name": "Python 3 (ipykernel)",
   "language": "python",
   "name": "python3"
  },
  "language_info": {
   "codemirror_mode": {
    "name": "ipython",
    "version": 3
   },
   "file_extension": ".py",
   "mimetype": "text/x-python",
   "name": "python",
   "nbconvert_exporter": "python",
   "pygments_lexer": "ipython3",
   "version": "3.11.4"
  }
 },
 "nbformat": 4,
 "nbformat_minor": 5
}
